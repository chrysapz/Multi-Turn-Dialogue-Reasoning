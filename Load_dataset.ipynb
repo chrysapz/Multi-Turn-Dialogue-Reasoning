{
 "cells": [
  {
   "cell_type": "code",
   "execution_count": 14,
   "id": "090ab93d",
   "metadata": {},
   "outputs": [],
   "source": [
    "import json\n",
    "import os\n"
   ]
  },
  {
   "cell_type": "code",
   "execution_count": 27,
   "id": "c64d2419",
   "metadata": {},
   "outputs": [],
   "source": [
    "answer_mapping = {\n",
    "    \"A\": 0,\n",
    "    \"B\": 1,\n",
    "    \"C\": 2,\n",
    "    \"D\": 3\n",
    "}\n",
    "\n",
    "class Sample:\n",
    "    def __init__(self, sample_id, answer, options, article):\n",
    "        self.sample_id = sample_id\n",
    "        self.answer = answer\n",
    "        self.options = options\n",
    "        self.article = article\n",
    "        \n",
    "        self.label_descr = options[answer_mapping[answer]]\n",
    "\n",
    "    def __str__(self):\n",
    "        return f\"Sample ID: {self.sample_id}\\nAnswer Number: {self.answer}\\nAnswer: {self.label_descr}\\nOptions: {self.options}\\nContext: {self.article}\"\n",
    "\n",
    "def load_sample_from_file(filename):\n",
    "    with open(filename, 'r') as file:\n",
    "        data = json.loads(file.read())\n",
    "    return Sample(\n",
    "        data['id'],\n",
    "        data['answers'],\n",
    "        data['options'],\n",
    "        data['article']\n",
    "    )\n",
    "\n",
    "def load_all_samples(base_dir,mode):\n",
    "    data_dir = os.path.join(base_dir, mode)\n",
    "    samples = []\n",
    "    for filename in os.listdir(data_dir):\n",
    "        if filename.endswith('.txt'):\n",
    "            sample = load_sample_from_file(os.path.join(data_dir, filename))\n",
    "            samples.append(sample)\n",
    "    return samples\n"
   ]
  },
  {
   "cell_type": "code",
   "execution_count": 28,
   "id": "55a37614",
   "metadata": {},
   "outputs": [
    {
     "name": "stdout",
     "output_type": "stream",
     "text": [
      "Sample ID: train_1\n",
      "Answer Number: B\n",
      "Answer: f : although the suit you sew is the same as it , the material of this suit is imported from italy .\n",
      "Options: [\"f : no suit has the same style as it . it 's the style that makes it special . it is worth the price .\", 'f : although the suit you sew is the same as it , the material of this suit is imported from italy .', 'f : the material of this suit is imported from france , it makes the suit special .', 'f : but the color of our suit is very special .']\n",
      "Context: m : excuse me . how much is this suit ? f : it 's on sale today for $ 750 . it 's normally $ 900 . m : wow , that is pretty expensive ! i was thinking that it might be 4 or 500 . f : this material is imported from italy . it 's the finest in the world , and if you bought a suit made of this material at many department stores , you would pay about $ 2000 . m : uh-hah . but is n't that the point of coming to a market like this , to get a discount compared to the expensive department stores ? besides i saw a suit just like this one a few stalls down , and they were selling it for $ 600 . i still thought that it was too expensive .\n",
      "   \n",
      "Sample ID: train_10\n",
      "Answer Number: C\n",
      "Answer: m : okay , i 'll put candles on it right away . i think i will be a little tired after all this preparation for this birthday party .\n",
      "Options: ['m : when we finish making the birthday cake , we can start preparing for the birthday party .', 'm : oh , i forget it , cooking a huge dinner is not easy .', \"m : okay , i 'll put candles on it right away . i think i will be a little tired after all this preparation for this birthday party .\", \"m : the party is almost ready , but the food is not enough . let 's prepare some more .\"]\n",
      "Context: m : is everything ready for billy 's birthday party ? f : yes . i finished making the birthday cake and i put everything on the table . did you find the party hats ? m : yes , i did . i put one for each child on the table . i put up the big `` happy birthday '' sign , too . f : thanks , honey . do you think we have enough for the kids to eat and drink ? m : i 'm sure we do . here 's enough food to feed an army . f : that birthday cake looks beautiful , but you have n't put any candles on it yet .\n",
      "   \n"
     ]
    }
   ],
   "source": [
    "base_dir = r\"data\\mutual\"\n",
    "train_samples = load_all_samples(base_dir, \"train\")\n",
    "\n",
    "for i in range(2):\n",
    "    print(samples[i])\n",
    "    print(\"   \")"
   ]
  },
  {
   "cell_type": "code",
   "execution_count": null,
   "id": "5e3844b7",
   "metadata": {},
   "outputs": [],
   "source": []
  }
 ],
 "metadata": {
  "kernelspec": {
   "display_name": "Python 3 (ipykernel)",
   "language": "python",
   "name": "python3"
  },
  "language_info": {
   "codemirror_mode": {
    "name": "ipython",
    "version": 3
   },
   "file_extension": ".py",
   "mimetype": "text/x-python",
   "name": "python",
   "nbconvert_exporter": "python",
   "pygments_lexer": "ipython3",
   "version": "3.10.7"
  }
 },
 "nbformat": 4,
 "nbformat_minor": 5
}
